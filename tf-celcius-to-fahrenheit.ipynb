{
  "nbformat": 4,
  "nbformat_minor": 0,
  "metadata": {
    "colab": {
      "name": "tf-celcius-to-fahrenheit.ipynb",
      "provenance": [],
      "collapsed_sections": [],
      "authorship_tag": "ABX9TyPLdv4FaiTp9o8wtU3Mc9MV",
      "include_colab_link": true
    },
    "kernelspec": {
      "name": "python3",
      "display_name": "Python 3"
    }
  },
  "cells": [
    {
      "cell_type": "markdown",
      "metadata": {
        "id": "view-in-github",
        "colab_type": "text"
      },
      "source": [
        "<a href=\"https://colab.research.google.com/github/alanpryoga/tf-ceclius-to-fahrenheit/blob/master/tf-celcius-to-fahrenheit.ipynb\" target=\"_parent\"><img src=\"https://colab.research.google.com/assets/colab-badge.svg\" alt=\"Open In Colab\"/></a>"
      ]
    },
    {
      "cell_type": "markdown",
      "metadata": {
        "id": "eyocCsVUfAW0"
      },
      "source": [
        "# Model Machine Learning untuk Konversi Celcius ke Fahrenheit"
      ]
    },
    {
      "cell_type": "code",
      "metadata": {
        "id": "CleqFOdjeqyX",
        "outputId": "bcfc853c-361e-4474-e518-e4e22632022f",
        "colab": {
          "base_uri": "https://localhost:8080/"
        }
      },
      "source": [
        "# Import library\n",
        "import tensorflow as tf\n",
        "import numpy as np\n",
        "import matplotlib.pyplot as plt\n",
        "import logging\n",
        "\n",
        "\n",
        "# Mengatur level logger\n",
        "logger = tf.get_logger()\n",
        "logger.setLevel(logging.ERROR)\n",
        "\n",
        "# Menampilkan versi Tensorflow\n",
        "print(tf.__version__)"
      ],
      "execution_count": 4,
      "outputs": [
        {
          "output_type": "stream",
          "text": [
            "2.3.0\n"
          ],
          "name": "stdout"
        }
      ]
    },
    {
      "cell_type": "code",
      "metadata": {
        "id": "f4BMKvNcfoTy",
        "outputId": "0ab8c0ca-91d6-42cf-ef69-73d0e84fabc7",
        "colab": {
          "base_uri": "https://localhost:8080/"
        }
      },
      "source": [
        "# Membuat data latih\n",
        "celcius_train = np.array([-40, -10,  0,  8, 15, 22,  38], dtype=float)\n",
        "fahrenheit_train = np.array([-40,  14, 32, 46, 59, 72, 100],  dtype=float)\n",
        "\n",
        "# Menampilkan pasangan data latih\n",
        "for i, c in enumerate(celcius_train):\n",
        "  print(\"{} Celcius = {} Fahrenheit\".format(c, fahrenheit_train[i]))"
      ],
      "execution_count": 7,
      "outputs": [
        {
          "output_type": "stream",
          "text": [
            "-40.0 Celcius = -40.0 Fahrenheit\n",
            "-10.0 Celcius = 14.0 Fahrenheit\n",
            "0.0 Celcius = 32.0 Fahrenheit\n",
            "8.0 Celcius = 46.0 Fahrenheit\n",
            "15.0 Celcius = 59.0 Fahrenheit\n",
            "22.0 Celcius = 72.0 Fahrenheit\n",
            "38.0 Celcius = 100.0 Fahrenheit\n"
          ],
          "name": "stdout"
        }
      ]
    },
    {
      "cell_type": "code",
      "metadata": {
        "id": "YqTt7HU4gZHP"
      },
      "source": [
        "# Membuat model machine learning\n",
        "model = tf.keras.Sequential([\n",
        "  tf.keras.layers.Dense(1, input_shape=[1])\n",
        "])"
      ],
      "execution_count": 8,
      "outputs": []
    },
    {
      "cell_type": "code",
      "metadata": {
        "id": "s7OvXiN_gvBm"
      },
      "source": [
        "model.compile(loss='mean_squared_error',\n",
        "              optimizer=tf.keras.optimizers.Adam(0.1))"
      ],
      "execution_count": 9,
      "outputs": []
    },
    {
      "cell_type": "code",
      "metadata": {
        "id": "2JwH7zyvg0bt",
        "outputId": "5917ee3a-3aef-4339-ed05-40bbf2087667",
        "colab": {
          "base_uri": "https://localhost:8080/"
        }
      },
      "source": [
        "# Melatih model\n",
        "history = model.fit(celcius_train, fahrenheit_train, epochs=500, verbose=False)\n",
        "print(\"Selesai melatih model.\")"
      ],
      "execution_count": 14,
      "outputs": [
        {
          "output_type": "stream",
          "text": [
            "Selesai melatih model.\n"
          ],
          "name": "stdout"
        }
      ]
    },
    {
      "cell_type": "code",
      "metadata": {
        "id": "DtbCevgHhLHo",
        "outputId": "27be3545-c9ab-448f-c8d1-51029195f11c",
        "colab": {
          "base_uri": "https://localhost:8080/",
          "height": 296
        }
      },
      "source": [
        "plt.xlabel('Epoch Number')\n",
        "plt.ylabel('Loss Magnitude')\n",
        "plt.plot(history.history['loss'])"
      ],
      "execution_count": 15,
      "outputs": [
        {
          "output_type": "execute_result",
          "data": {
            "text/plain": [
              "[<matplotlib.lines.Line2D at 0x7f08e72ae390>]"
            ]
          },
          "metadata": {
            "tags": []
          },
          "execution_count": 15
        },
        {
          "output_type": "display_data",
          "data": {
            "image/png": "[encoded data removed]",
            "text/plain": [
              "<Figure size 432x288 with 1 Axes>"
            ]
          },
          "metadata": {
            "tags": [],
            "needs_background": "light"
          }
        }
      ]
    },
    {
      "cell_type": "code",
      "metadata": {
        "id": "CGkM2-mfhjtB",
        "outputId": "abece12f-e65f-4bd7-9a93-cc98cfe835dc",
        "colab": {
          "base_uri": "https://localhost:8080/"
        }
      },
      "source": [
        "# Prediksi nilai\n",
        "print(model.predict([100]))"
      ],
      "execution_count": 16,
      "outputs": [
        {
          "output_type": "stream",
          "text": [
            "[[211.73663]]\n"
          ],
          "name": "stdout"
        }
      ]
    },
    {
      "cell_type": "code",
      "metadata": {
        "id": "ke7-DAibhy8U",
        "outputId": "cd536cf5-5193-4fb4-fbc1-33d493881b34",
        "colab": {
          "base_uri": "https://localhost:8080/"
        }
      },
      "source": [
        "# Perhitungan manual\n",
        "print(100 * 1.8 + 32)"
      ],
      "execution_count": 17,
      "outputs": [
        {
          "output_type": "stream",
          "text": [
            "212.0\n"
          ],
          "name": "stdout"
        }
      ]
    }
  ]
}